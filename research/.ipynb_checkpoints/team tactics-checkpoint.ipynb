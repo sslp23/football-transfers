{
 "cells": [
  {
   "cell_type": "code",
   "execution_count": 1,
   "id": "a45debc3",
   "metadata": {},
   "outputs": [],
   "source": [
    "# create a df\n",
    "# season, team id, coach, most used formation\n",
    "# season, team id, coach, most used formation\n",
    "# ...\n",
    "# season, team id, coach, most used formation"
   ]
  },
  {
   "cell_type": "code",
   "execution_count": 2,
   "id": "6fe63a6e",
   "metadata": {},
   "outputs": [],
   "source": [
    "import pandas as pd\n",
    "from tqdm import tqdm\n",
    "import numpy as np\n",
    "\n",
    "import requests\n",
    "from bs4 import BeautifulSoup\n",
    "import time\n"
   ]
  },
  {
   "cell_type": "code",
   "execution_count": 10,
   "id": "36ec8411",
   "metadata": {},
   "outputs": [],
   "source": [
    "df = pd.read_csv('players_infos.csv')"
   ]
  },
  {
   "cell_type": "code",
   "execution_count": 20,
   "id": "53854f39",
   "metadata": {},
   "outputs": [],
   "source": [
    "seasons = np.arange(2023, 2024).tolist()\n",
    "headers = {\"User-Agent\": \"Mozilla/5.0 (X11; CrOS x86_64 12871.102.0) AppleWebKit/537.36 (KHTML, like Gecko) Chrome/81.0.4044.141 Safari/537.36\"}"
   ]
  },
  {
   "cell_type": "code",
   "execution_count": 16,
   "id": "eba04fa9",
   "metadata": {},
   "outputs": [],
   "source": [
    "target_teams = df[['Season', 'TEAM_ID', 'Team', 'League']].drop_duplicates()"
   ]
  },
  {
   "cell_type": "code",
   "execution_count": 51,
   "id": "936178a2",
   "metadata": {},
   "outputs": [],
   "source": [
    "def get_tactical_systems(season, team_id, team, league):\n",
    "    season_id = str(season)[:4]\n",
    "    link = f'https://www.transfermarkt.co.uk/team/spielplan/verein/{team_id}/saison_id/{season_id}/plus/1'\n",
    "    response = requests.get(link, headers=headers)\n",
    "        \n",
    "    games_df = pd.DataFrame()\n",
    "    for df in pd.read_html(response.content):\n",
    "        if 'System of play' in df.columns.values.tolist():\n",
    "            games_df = pd.concat([games_df, df])\n",
    "    \n",
    "    system_df = games_df.groupby('Coach')['System of play'].agg(pd.Series.mode).to_frame('Most Used System').reset_index()\n",
    "    system_df['Season'] = [season]*len(system_df)\n",
    "    system_df['Team'] = [team]*len(system_df)\n",
    "    system_df['Team_ID'] = [team_id]*len(system_df)\n",
    "    \n",
    "    total_games = games_df.groupby('Coach').size().to_frame('Games Used').reset_index()\n",
    "    system_df = system_df.merge(total_games, how='left', on='Coach')\n",
    "\n",
    "    return system_df"
   ]
  },
  {
   "cell_type": "code",
   "execution_count": 54,
   "id": "7000195a",
   "metadata": {},
   "outputs": [],
   "source": [
    "a = get_tactical_systems(202425, 405, 'Aston Villa', 'GB1')\n",
    "#target_teams"
   ]
  },
  {
   "cell_type": "code",
   "execution_count": 55,
   "id": "91e72b92",
   "metadata": {},
   "outputs": [
    {
     "data": {
      "text/html": [
       "<div>\n",
       "<style scoped>\n",
       "    .dataframe tbody tr th:only-of-type {\n",
       "        vertical-align: middle;\n",
       "    }\n",
       "\n",
       "    .dataframe tbody tr th {\n",
       "        vertical-align: top;\n",
       "    }\n",
       "\n",
       "    .dataframe thead th {\n",
       "        text-align: right;\n",
       "    }\n",
       "</style>\n",
       "<table border=\"1\" class=\"dataframe\">\n",
       "  <thead>\n",
       "    <tr style=\"text-align: right;\">\n",
       "      <th></th>\n",
       "      <th>Coach</th>\n",
       "      <th>Most Used System</th>\n",
       "      <th>Season</th>\n",
       "      <th>Team</th>\n",
       "      <th>Team_ID</th>\n",
       "      <th>Games Used</th>\n",
       "    </tr>\n",
       "  </thead>\n",
       "  <tbody>\n",
       "    <tr>\n",
       "      <th>0</th>\n",
       "      <td>Unai Emery</td>\n",
       "      <td>4-2-3-1</td>\n",
       "      <td>202425</td>\n",
       "      <td>Aston Villa</td>\n",
       "      <td>405</td>\n",
       "      <td>10</td>\n",
       "    </tr>\n",
       "  </tbody>\n",
       "</table>\n",
       "</div>"
      ],
      "text/plain": [
       "        Coach Most Used System  Season         Team  Team_ID  Games Used\n",
       "0  Unai Emery          4-2-3-1  202425  Aston Villa      405          10"
      ]
     },
     "execution_count": 55,
     "metadata": {},
     "output_type": "execute_result"
    }
   ],
   "source": [
    "a"
   ]
  },
  {
   "cell_type": "code",
   "execution_count": 57,
   "id": "4bcbe34b",
   "metadata": {},
   "outputs": [
    {
     "name": "stderr",
     "output_type": "stream",
     "text": [
      "100%|████████████████████████████████████████████████████████████████████████████████| 167/167 [10:07<00:00,  3.64s/it]\n"
     ]
    }
   ],
   "source": [
    "tqdm.pandas()\n",
    "systems_df = target_teams.progress_apply(lambda x: get_tactical_systems(x['Season'], x['TEAM_ID'], x['Team'], x['League']), axis=1)"
   ]
  },
  {
   "cell_type": "code",
   "execution_count": null,
   "id": "168d0944",
   "metadata": {},
   "outputs": [],
   "source": []
  },
  {
   "cell_type": "code",
   "execution_count": 60,
   "id": "69edcbcb",
   "metadata": {},
   "outputs": [],
   "source": [
    "pd.concat(systems_df.values.tolist()).to_csv('tactical_systems.csv', index=False)"
   ]
  },
  {
   "cell_type": "code",
   "execution_count": 61,
   "id": "ac5d536e",
   "metadata": {
    "scrolled": true
   },
   "outputs": [
    {
     "data": {
      "text/html": [
       "<div>\n",
       "<style scoped>\n",
       "    .dataframe tbody tr th:only-of-type {\n",
       "        vertical-align: middle;\n",
       "    }\n",
       "\n",
       "    .dataframe tbody tr th {\n",
       "        vertical-align: top;\n",
       "    }\n",
       "\n",
       "    .dataframe thead th {\n",
       "        text-align: right;\n",
       "    }\n",
       "</style>\n",
       "<table border=\"1\" class=\"dataframe\">\n",
       "  <thead>\n",
       "    <tr style=\"text-align: right;\">\n",
       "      <th></th>\n",
       "      <th>Coach</th>\n",
       "      <th>Most Used System</th>\n",
       "      <th>Season</th>\n",
       "      <th>Team</th>\n",
       "      <th>Team_ID</th>\n",
       "      <th>Games Used</th>\n",
       "    </tr>\n",
       "  </thead>\n",
       "  <tbody>\n",
       "    <tr>\n",
       "      <th>0</th>\n",
       "      <td>Pep Guardiola</td>\n",
       "      <td>3-4-2-1</td>\n",
       "      <td>202425.0</td>\n",
       "      <td>Manchester City</td>\n",
       "      <td>281</td>\n",
       "      <td>12</td>\n",
       "    </tr>\n",
       "    <tr>\n",
       "      <th>0</th>\n",
       "      <td>Mikel Arteta</td>\n",
       "      <td>4-3-3 Attacking</td>\n",
       "      <td>202425.0</td>\n",
       "      <td>Arsenal</td>\n",
       "      <td>11</td>\n",
       "      <td>10</td>\n",
       "    </tr>\n",
       "    <tr>\n",
       "      <th>0</th>\n",
       "      <td>Enzo Maresca</td>\n",
       "      <td>4-2-3-1</td>\n",
       "      <td>202425.0</td>\n",
       "      <td>Chelsea</td>\n",
       "      <td>631</td>\n",
       "      <td>11</td>\n",
       "    </tr>\n",
       "    <tr>\n",
       "      <th>0</th>\n",
       "      <td>Arne Slot</td>\n",
       "      <td>4-2-3-1</td>\n",
       "      <td>202425.0</td>\n",
       "      <td>Liverpool</td>\n",
       "      <td>31</td>\n",
       "      <td>10</td>\n",
       "    </tr>\n",
       "    <tr>\n",
       "      <th>0</th>\n",
       "      <td>Erik ten Hag</td>\n",
       "      <td>4-2-3-1</td>\n",
       "      <td>202425.0</td>\n",
       "      <td>Manchester United</td>\n",
       "      <td>985</td>\n",
       "      <td>11</td>\n",
       "    </tr>\n",
       "    <tr>\n",
       "      <th>...</th>\n",
       "      <td>...</td>\n",
       "      <td>...</td>\n",
       "      <td>...</td>\n",
       "      <td>...</td>\n",
       "      <td>...</td>\n",
       "      <td>...</td>\n",
       "    </tr>\n",
       "    <tr>\n",
       "      <th>0</th>\n",
       "      <td>Freyr Alexandersson</td>\n",
       "      <td>[3-5-2, 5-4-1]</td>\n",
       "      <td>202425.0</td>\n",
       "      <td>KV Kortrijk</td>\n",
       "      <td>601</td>\n",
       "      <td>10</td>\n",
       "    </tr>\n",
       "    <tr>\n",
       "      <th>0</th>\n",
       "      <td>Christian Lattanzio</td>\n",
       "      <td>3-5-2 flat</td>\n",
       "      <td>202425.0</td>\n",
       "      <td>SintTruidense VV</td>\n",
       "      <td>475</td>\n",
       "      <td>6</td>\n",
       "    </tr>\n",
       "    <tr>\n",
       "      <th>1</th>\n",
       "      <td>Felice Mazzù</td>\n",
       "      <td>3-4-3</td>\n",
       "      <td>202425.0</td>\n",
       "      <td>SintTruidense VV</td>\n",
       "      <td>475</td>\n",
       "      <td>4</td>\n",
       "    </tr>\n",
       "    <tr>\n",
       "      <th>0</th>\n",
       "      <td>Dirk Kuyt</td>\n",
       "      <td>3-4-3</td>\n",
       "      <td>202425.0</td>\n",
       "      <td>Beerschot VA</td>\n",
       "      <td>41274</td>\n",
       "      <td>10</td>\n",
       "    </tr>\n",
       "    <tr>\n",
       "      <th>0</th>\n",
       "      <td>Vincent Euvrard</td>\n",
       "      <td>5-3-2</td>\n",
       "      <td>202425.0</td>\n",
       "      <td>FCV Dender EH</td>\n",
       "      <td>9010</td>\n",
       "      <td>10</td>\n",
       "    </tr>\n",
       "  </tbody>\n",
       "</table>\n",
       "<p>183 rows × 6 columns</p>\n",
       "</div>"
      ],
      "text/plain": [
       "                  Coach Most Used System    Season               Team  \\\n",
       "0         Pep Guardiola          3-4-2-1  202425.0    Manchester City   \n",
       "0          Mikel Arteta  4-3-3 Attacking  202425.0            Arsenal   \n",
       "0          Enzo Maresca          4-2-3-1  202425.0            Chelsea   \n",
       "0             Arne Slot          4-2-3-1  202425.0          Liverpool   \n",
       "0          Erik ten Hag          4-2-3-1  202425.0  Manchester United   \n",
       "..                  ...              ...       ...                ...   \n",
       "0   Freyr Alexandersson   [3-5-2, 5-4-1]  202425.0        KV Kortrijk   \n",
       "0   Christian Lattanzio       3-5-2 flat  202425.0   SintTruidense VV   \n",
       "1          Felice Mazzù            3-4-3  202425.0   SintTruidense VV   \n",
       "0             Dirk Kuyt            3-4-3  202425.0       Beerschot VA   \n",
       "0       Vincent Euvrard            5-3-2  202425.0      FCV Dender EH   \n",
       "\n",
       "    Team_ID  Games Used  \n",
       "0       281          12  \n",
       "0        11          10  \n",
       "0       631          11  \n",
       "0        31          10  \n",
       "0       985          11  \n",
       "..      ...         ...  \n",
       "0       601          10  \n",
       "0       475           6  \n",
       "1       475           4  \n",
       "0     41274          10  \n",
       "0      9010          10  \n",
       "\n",
       "[183 rows x 6 columns]"
      ]
     },
     "execution_count": 61,
     "metadata": {},
     "output_type": "execute_result"
    }
   ],
   "source": [
    "pd.concat(systems_df.values.tolist())"
   ]
  },
  {
   "cell_type": "code",
   "execution_count": null,
   "id": "3bf10e53",
   "metadata": {},
   "outputs": [],
   "source": []
  }
 ],
 "metadata": {
  "kernelspec": {
   "display_name": "Python 3 (ipykernel)",
   "language": "python",
   "name": "python3"
  },
  "language_info": {
   "codemirror_mode": {
    "name": "ipython",
    "version": 3
   },
   "file_extension": ".py",
   "mimetype": "text/x-python",
   "name": "python",
   "nbconvert_exporter": "python",
   "pygments_lexer": "ipython3",
   "version": "3.11.3"
  }
 },
 "nbformat": 4,
 "nbformat_minor": 5
}
