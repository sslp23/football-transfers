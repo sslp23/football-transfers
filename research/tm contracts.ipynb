{
 "cells": [
  {
   "cell_type": "code",
   "execution_count": 1,
   "id": "e56a7917-fbb6-48e9-beb5-6d70fa50be58",
   "metadata": {},
   "outputs": [],
   "source": [
    "import pandas as pd\n",
    "from tqdm import tqdm\n",
    "import numpy as np\n",
    "\n",
    "import requests\n",
    "from bs4 import BeautifulSoup\n",
    "import time\n",
    "from io import StringIO"
   ]
  },
  {
   "cell_type": "code",
   "execution_count": 3,
   "id": "a5297764-c131-483d-a7da-069b002bc2ab",
   "metadata": {},
   "outputs": [],
   "source": [
    "seasons = np.arange(2023, 2024).tolist()\n",
    "headers = {\"User-Agent\": \"Mozilla/5.0 (X11; CrOS x86_64 12871.102.0) AppleWebKit/537.36 (KHTML, like Gecko) Chrome/81.0.4044.141 Safari/537.36\"}"
   ]
  },
  {
   "cell_type": "code",
   "execution_count": 19,
   "id": "4a8f1079-3245-44c6-9024-d54641aa0483",
   "metadata": {},
   "outputs": [],
   "source": [
    "def find_contract_link(s, sns, league_code):\n",
    "\n",
    "    splitted = s.split(\"/\")\n",
    "\n",
    "    team_name = splitted[4]\n",
    "\n",
    "    if \"fc\" in team_name:\n",
    "        new_team_name = team_name.split(\"-\")[1]+\"-\"+team_name.split(\"-\")[0]\n",
    "    else:\n",
    "        new_team_name = team_name\n",
    "\n",
    "\n",
    "    return s.replace(\"/\"+team_name, new_team_name).replace('startseite', 'berateruebersicht').split('saison_id')[0] + f\"plus/1\""
   ]
  },
  {
   "cell_type": "code",
   "execution_count": 21,
   "id": "1546d4be-c84f-4c65-89b0-0fe139d20cca",
   "metadata": {},
   "outputs": [],
   "source": [
    "#all teams links\n",
    "def get_links(league_code, seasons):\n",
    "    base_link = f\"https://www.transfermarkt.co.uk/championship/startseite/wettbewerb/{league_code}/plus/?saison_id=\"#2021\n",
    "    base = \"https://www.transfermarkt.co.uk/\"\n",
    "    \n",
    "    all_urls = []\n",
    "    for s in (seasons):\n",
    "        url =f\"https://www.transfermarkt.co.uk/championship/startseite/wettbewerb/{league_code}/plus/?saison_id=\"+str(s)\n",
    "        print(url)\n",
    "        response = requests.get(url, headers=headers)\n",
    "        soup = BeautifulSoup(response.content, \"html.parser\")\n",
    "        \n",
    "        team_links = soup.find_all(\"table\", {\"class\": \"items\"})\n",
    "        links = []\n",
    "\n",
    "        for row in team_links[0].find(\"tbody\").children:\n",
    "            if row.name == \"tr\":\n",
    "                cells = row.find(\"td\", {\"class\": \"hauptlink no-border-links\"})\n",
    "                new_url = (base+cells.find(\"a\").get(\"href\"))\n",
    "                tn = cells.find(\"a\").text.split(\" FC\")[0]\n",
    "                right_url = find_contract_link(new_url, s, league_code)\n",
    "                links+= [(tn, right_url)]\n",
    "        all_urls += (links) \n",
    "    return all_urls"
   ]
  },
  {
   "cell_type": "code",
   "execution_count": 23,
   "id": "84a4cc2b-9706-4a62-9d7c-c46175127828",
   "metadata": {},
   "outputs": [
    {
     "name": "stdout",
     "output_type": "stream",
     "text": [
      "https://www.transfermarkt.co.uk/championship/startseite/wettbewerb/GB1/plus/?saison_id=2024\n"
     ]
    }
   ],
   "source": [
    "team_links =get_links('GB1', [2024])"
   ]
  },
  {
   "cell_type": "code",
   "execution_count": null,
   "id": "c0e0cb81-1e63-45c8-8de4-2f0b5b4a74d1",
   "metadata": {},
   "outputs": [],
   "source": []
  },
  {
   "cell_type": "code",
   "execution_count": null,
   "id": "ea96e2a8-6954-4a6d-b26e-de74751c2542",
   "metadata": {},
   "outputs": [],
   "source": []
  },
  {
   "cell_type": "code",
   "execution_count": 182,
   "id": "d613b0b9-9c57-4d1a-a5c5-a5f5fe234c1a",
   "metadata": {},
   "outputs": [],
   "source": [
    "def get_contract_details(link):\n",
    "    response = requests.get(link[1], headers=headers)\n",
    "    soup = BeautifulSoup(response.content, \"html.parser\")\n",
    "\n",
    "    all_transfers = soup.find('table', {'class': 'items'}).find(\"tbody\")\n",
    "    all_teams_df = pd.DataFrame()\n",
    "\n",
    "    infos = []\n",
    "    #trs = soup.find_all('tr', class_=['odd', 'even'])\n",
    "    \n",
    "    for a in all_transfers.find_all('tr', class_=['odd', 'even']):\n",
    "        position = a.find('td')['title']\n",
    "        player_name = a.find('td', {'class': 'posrela'}).find_all('td')[1].find('a')['title']\n",
    "        player_id = a.find('td', {'class': 'posrela'}).find_all('td')[1].find('a')['href'].split('/')[-1]\n",
    "        age = a.find_all('td', {'class': 'zentriert'})[1].text\n",
    "        nationality = a.find_all('td', {'class': 'zentriert'})[2].find('img')['title']\n",
    "        joined = a.find_all('td', {'class': 'zentriert'})[3].text\n",
    "        expires = a.find_all('td', {'class': 'zentriert'})[4].text\n",
    "        option = a.find_all('td', {'class': 'zentriert'})[5].text\n",
    "        last_extension = a.find_all('td', {'class': 'zentriert'})[6].text\n",
    "        try:\n",
    "            agent_id = a.find_all('td', {'class': 'rechts'})[0].find('a')['href'].split('/')[-1]\n",
    "            agent = a.find_all('td', {'class': 'rechts'})[0].find('a').text\n",
    "        except:\n",
    "            agent_id = -1\n",
    "            agent = ''\n",
    "\n",
    "        new_df = pd.DataFrame([[position, player_name, player_id, age, nationality, joined, expires, option, last_extension, agent, agent_id]], \n",
    "                              columns=['Position', 'Player Name', 'Player_ID', 'Age', 'Nationality', 'Joined', 'Expires', 'Option', 'Last Extension', 'Agent', 'Agent_ID'])\n",
    "        all_teams_df = pd.concat([all_teams_df, new_df])\n",
    "\n",
    "    all_teams_df['Team'] = [link[0]]*len(all_teams_df)\n",
    "    all_teams_df['Team_ID'] = [link[1].split('/')[-3]]*len(all_teams_df)\n",
    "    return all_teams_df"
   ]
  },
  {
   "cell_type": "code",
   "execution_count": null,
   "id": "cbb4f77e-8b31-472b-bf01-47ddc690c0f0",
   "metadata": {},
   "outputs": [],
   "source": []
  },
  {
   "cell_type": "code",
   "execution_count": 191,
   "id": "620e6591-eb41-4364-9487-120ca1a11364",
   "metadata": {},
   "outputs": [],
   "source": [
    "leagues = ['GB1', 'L1', 'PO1', 'FR1', 'IT1', 'ES1', 'TR1', 'NL1', 'BE1']\n",
    "import time"
   ]
  },
  {
   "cell_type": "code",
   "execution_count": 193,
   "id": "c2007f0c-c145-4834-b4ad-2cf85f8ce6c0",
   "metadata": {},
   "outputs": [
    {
     "name": "stdout",
     "output_type": "stream",
     "text": [
      "https://www.transfermarkt.co.uk/championship/startseite/wettbewerb/GB1/plus/?saison_id=2024\n"
     ]
    },
    {
     "name": "stderr",
     "output_type": "stream",
     "text": [
      "100%|█████████████████████████████████████████████████████████████████████████████████████████| 20/20 [00:31<00:00,  1.58s/it]\n"
     ]
    },
    {
     "name": "stdout",
     "output_type": "stream",
     "text": [
      "https://www.transfermarkt.co.uk/championship/startseite/wettbewerb/L1/plus/?saison_id=2024\n"
     ]
    },
    {
     "name": "stderr",
     "output_type": "stream",
     "text": [
      "100%|█████████████████████████████████████████████████████████████████████████████████████████| 18/18 [00:34<00:00,  1.89s/it]\n"
     ]
    },
    {
     "name": "stdout",
     "output_type": "stream",
     "text": [
      "https://www.transfermarkt.co.uk/championship/startseite/wettbewerb/PO1/plus/?saison_id=2024\n"
     ]
    },
    {
     "name": "stderr",
     "output_type": "stream",
     "text": [
      "100%|█████████████████████████████████████████████████████████████████████████████████████████| 18/18 [00:40<00:00,  2.24s/it]\n"
     ]
    },
    {
     "name": "stdout",
     "output_type": "stream",
     "text": [
      "https://www.transfermarkt.co.uk/championship/startseite/wettbewerb/FR1/plus/?saison_id=2024\n"
     ]
    },
    {
     "name": "stderr",
     "output_type": "stream",
     "text": [
      "100%|█████████████████████████████████████████████████████████████████████████████████████████| 18/18 [00:34<00:00,  1.89s/it]\n"
     ]
    },
    {
     "name": "stdout",
     "output_type": "stream",
     "text": [
      "https://www.transfermarkt.co.uk/championship/startseite/wettbewerb/IT1/plus/?saison_id=2024\n"
     ]
    },
    {
     "name": "stderr",
     "output_type": "stream",
     "text": [
      "100%|█████████████████████████████████████████████████████████████████████████████████████████| 20/20 [00:35<00:00,  1.80s/it]\n"
     ]
    },
    {
     "name": "stdout",
     "output_type": "stream",
     "text": [
      "https://www.transfermarkt.co.uk/championship/startseite/wettbewerb/ES1/plus/?saison_id=2024\n"
     ]
    },
    {
     "name": "stderr",
     "output_type": "stream",
     "text": [
      "100%|█████████████████████████████████████████████████████████████████████████████████████████| 20/20 [00:35<00:00,  1.77s/it]\n"
     ]
    },
    {
     "name": "stdout",
     "output_type": "stream",
     "text": [
      "https://www.transfermarkt.co.uk/championship/startseite/wettbewerb/TR1/plus/?saison_id=2024\n"
     ]
    },
    {
     "name": "stderr",
     "output_type": "stream",
     "text": [
      "100%|█████████████████████████████████████████████████████████████████████████████████████████| 19/19 [00:38<00:00,  2.01s/it]\n"
     ]
    },
    {
     "name": "stdout",
     "output_type": "stream",
     "text": [
      "https://www.transfermarkt.co.uk/championship/startseite/wettbewerb/NL1/plus/?saison_id=2024\n"
     ]
    },
    {
     "name": "stderr",
     "output_type": "stream",
     "text": [
      "100%|█████████████████████████████████████████████████████████████████████████████████████████| 18/18 [00:32<00:00,  1.79s/it]\n"
     ]
    },
    {
     "name": "stdout",
     "output_type": "stream",
     "text": [
      "https://www.transfermarkt.co.uk/championship/startseite/wettbewerb/BE1/plus/?saison_id=2024\n"
     ]
    },
    {
     "name": "stderr",
     "output_type": "stream",
     "text": [
      "100%|█████████████████████████████████████████████████████████████████████████████████████████| 16/16 [00:35<00:00,  2.21s/it]\n"
     ]
    }
   ],
   "source": [
    "base_df = pd.DataFrame()\n",
    "for l in leagues:\n",
    "    team_links =get_links(l, [2024])\n",
    "    tl = []\n",
    "    for team in tqdm(team_links):\n",
    "        passed = 0\n",
    "        while passed == 0:\n",
    "            try:\n",
    "                tl.append(get_contract_details(team))\n",
    "                passed = 1\n",
    "            except:\n",
    "                print(f'team {team} error - trying again')\n",
    "                time.sleep(5)\n",
    "    all_teams = pd.concat(tl)\n",
    "    all_teams['League'] = [l]*len(all_teams)\n",
    "\n",
    "    base_df = pd.concat([base_df, all_teams])"
   ]
  },
  {
   "cell_type": "code",
   "execution_count": null,
   "id": "5c1139ad-ce7f-48d8-89f1-6e5b5b90a259",
   "metadata": {},
   "outputs": [],
   "source": []
  },
  {
   "cell_type": "code",
   "execution_count": 197,
   "id": "0736c744-f0b2-4eb8-9cb0-27c4e0249e5a",
   "metadata": {},
   "outputs": [],
   "source": [
    "base_df.to_csv('contract_agents_info.csv', index=False)"
   ]
  },
  {
   "cell_type": "code",
   "execution_count": null,
   "id": "1ce886d1-5d23-45f7-ba36-6c55ed746526",
   "metadata": {},
   "outputs": [],
   "source": []
  }
 ],
 "metadata": {
  "kernelspec": {
   "display_name": "Python 3 (ipykernel)",
   "language": "python",
   "name": "python3"
  },
  "language_info": {
   "codemirror_mode": {
    "name": "ipython",
    "version": 3
   },
   "file_extension": ".py",
   "mimetype": "text/x-python",
   "name": "python",
   "nbconvert_exporter": "python",
   "pygments_lexer": "ipython3",
   "version": "3.11.3"
  }
 },
 "nbformat": 4,
 "nbformat_minor": 5
}
