{
 "cells": [
  {
   "cell_type": "code",
   "execution_count": 1,
   "id": "bab467ba",
   "metadata": {},
   "outputs": [],
   "source": [
    "import pandas as pd\n",
    "from tqdm import tqdm\n",
    "import numpy as np\n",
    "\n",
    "import requests\n",
    "from bs4 import BeautifulSoup\n",
    "import time\n"
   ]
  },
  {
   "cell_type": "code",
   "execution_count": 2,
   "id": "95f59a80",
   "metadata": {},
   "outputs": [],
   "source": [
    "seasons = np.arange(2023, 2024).tolist()\n",
    "headers = {\"User-Agent\": \"Mozilla/5.0 (X11; CrOS x86_64 12871.102.0) AppleWebKit/537.36 (KHTML, like Gecko) Chrome/81.0.4044.141 Safari/537.36\"}"
   ]
  },
  {
   "cell_type": "code",
   "execution_count": 3,
   "id": "fccdedac",
   "metadata": {},
   "outputs": [],
   "source": [
    "def find_stats_link(s, sns, league_code):\n",
    "\n",
    "    splitted = s.split(\"/\")\n",
    "\n",
    "    team_name = splitted[4]\n",
    "\n",
    "    if \"fc\" in team_name:\n",
    "        new_team_name = team_name.split(\"-\")[1]+\"-\"+team_name.split(\"-\")[0]\n",
    "    else:\n",
    "        new_team_name = team_name\n",
    "\n",
    "\n",
    "    return s.replace(\"/\"+team_name, new_team_name).replace('startseite', 'leistungsdaten').split('saison_id')[0] + f\"plus/1?reldata={league_code}%26\"+str(sns)"
   ]
  },
  {
   "cell_type": "code",
   "execution_count": 7,
   "id": "2394280e",
   "metadata": {},
   "outputs": [],
   "source": [
    "#all teams links\n",
    "def get_links(league_code, seasons):\n",
    "    base_link = f\"https://www.transfermarkt.co.uk/championship/startseite/wettbewerb/{league_code}/plus/?saison_id=\"#2021\n",
    "    base = \"https://www.transfermarkt.co.uk/\"\n",
    "    \n",
    "    all_urls = []\n",
    "    for s in (seasons):\n",
    "        url =f\"https://www.transfermarkt.co.uk/championship/startseite/wettbewerb/{league_code}/plus/?saison_id=\"+str(s)\n",
    "        print(url)\n",
    "        response = requests.get(url, headers=headers)\n",
    "        soup = BeautifulSoup(response.content, \"html.parser\")\n",
    "        \n",
    "        team_links = soup.find_all(\"table\", {\"class\": \"items\"})\n",
    "        links = []\n",
    "\n",
    "        for row in team_links[0].find(\"tbody\").children:\n",
    "            if row.name == \"tr\":\n",
    "                cells = row.find(\"td\", {\"class\": \"hauptlink no-border-links\"})\n",
    "                new_url = (base+cells.find(\"a\").get(\"href\"))\n",
    "                tn = cells.find(\"a\").text.split(\" FC\")[0]\n",
    "                right_url = find_stats_link(new_url, s, league_code)\n",
    "                links+= [(tn, right_url)]\n",
    "        all_urls += (links) \n",
    "    return all_urls"
   ]
  },
  {
   "cell_type": "code",
   "execution_count": 51,
   "id": "5e355d5c",
   "metadata": {},
   "outputs": [
    {
     "name": "stdout",
     "output_type": "stream",
     "text": [
      "https://www.transfermarkt.co.uk/championship/startseite/wettbewerb/GB1/plus/?saison_id=2024\n"
     ]
    },
    {
     "ename": "AttributeError",
     "evalue": "'NoneType' object has no attribute 'find'",
     "output_type": "error",
     "traceback": [
      "\u001b[1;31m---------------------------------------------------------------------------\u001b[0m",
      "\u001b[1;31mAttributeError\u001b[0m                            Traceback (most recent call last)",
      "Cell \u001b[1;32mIn[51], line 1\u001b[0m\n\u001b[1;32m----> 1\u001b[0m team_links \u001b[38;5;241m=\u001b[39mget_links(\u001b[38;5;124m'\u001b[39m\u001b[38;5;124mGB1\u001b[39m\u001b[38;5;124m'\u001b[39m, [\u001b[38;5;241m2024\u001b[39m])\n",
      "Cell \u001b[1;32mIn[49], line 19\u001b[0m, in \u001b[0;36mget_links\u001b[1;34m(league_code, seasons)\u001b[0m\n\u001b[0;32m     17\u001b[0m \u001b[38;5;28;01mif\u001b[39;00m row\u001b[38;5;241m.\u001b[39mname \u001b[38;5;241m==\u001b[39m \u001b[38;5;124m\"\u001b[39m\u001b[38;5;124mtr\u001b[39m\u001b[38;5;124m\"\u001b[39m:\n\u001b[0;32m     18\u001b[0m     cells \u001b[38;5;241m=\u001b[39m row\u001b[38;5;241m.\u001b[39mfind(\u001b[38;5;124m\"\u001b[39m\u001b[38;5;124mtd\u001b[39m\u001b[38;5;124m\"\u001b[39m, {\u001b[38;5;124m\"\u001b[39m\u001b[38;5;124mclass\u001b[39m\u001b[38;5;124m\"\u001b[39m: \u001b[38;5;124m\"\u001b[39m\u001b[38;5;124mhauptlink no-border-links\u001b[39m\u001b[38;5;124m\"\u001b[39m})\n\u001b[1;32m---> 19\u001b[0m     new_url \u001b[38;5;241m=\u001b[39m (base\u001b[38;5;241m+\u001b[39mcells\u001b[38;5;241m.\u001b[39mfind(\u001b[38;5;124m\"\u001b[39m\u001b[38;5;124ma\u001b[39m\u001b[38;5;124m\"\u001b[39m)\u001b[38;5;241m.\u001b[39mget(\u001b[38;5;124m\"\u001b[39m\u001b[38;5;124mhref\u001b[39m\u001b[38;5;124m\"\u001b[39m))\n\u001b[0;32m     20\u001b[0m     tn \u001b[38;5;241m=\u001b[39m cells\u001b[38;5;241m.\u001b[39mfind(\u001b[38;5;124m\"\u001b[39m\u001b[38;5;124ma\u001b[39m\u001b[38;5;124m\"\u001b[39m)\u001b[38;5;241m.\u001b[39mtext\u001b[38;5;241m.\u001b[39msplit(\u001b[38;5;124m\"\u001b[39m\u001b[38;5;124m FC\u001b[39m\u001b[38;5;124m\"\u001b[39m)[\u001b[38;5;241m0\u001b[39m]\n\u001b[0;32m     21\u001b[0m     right_url \u001b[38;5;241m=\u001b[39m find_stats_link(new_url, s, league_code)\n",
      "\u001b[1;31mAttributeError\u001b[0m: 'NoneType' object has no attribute 'find'"
     ]
    }
   ],
   "source": [
    "team_links =get_links('GB1', [2024])"
   ]
  },
  {
   "cell_type": "code",
   "execution_count": null,
   "id": "aecc709a-db80-4c87-bb2f-cc6e39934c2c",
   "metadata": {},
   "outputs": [],
   "source": []
  },
  {
   "cell_type": "code",
   "execution_count": null,
   "id": "166ebbae-a5c4-4729-aa98-d0e1632fe3f4",
   "metadata": {},
   "outputs": [],
   "source": []
  },
  {
   "cell_type": "code",
   "execution_count": null,
   "id": "d8ff6757-9594-4ffb-a447-932bc0735790",
   "metadata": {},
   "outputs": [],
   "source": []
  },
  {
   "cell_type": "code",
   "execution_count": null,
   "id": "cc0114b2",
   "metadata": {},
   "outputs": [],
   "source": []
  },
  {
   "cell_type": "code",
   "execution_count": 25,
   "id": "e77cd519",
   "metadata": {},
   "outputs": [],
   "source": [
    "#stats from squad\n",
    "def find_squad_stats(als):\n",
    "    team = als[0]\n",
    "    link = als[1]\n",
    "    season = link[-4:] + \"-\" + str(int(link[-2:])+1)\n",
    "    url = link\n",
    "    response = requests.get(url, headers=headers)\n",
    "    soup = BeautifulSoup(response.content, \"html.parser\")\n",
    "    \n",
    "    team_links = soup.find_all(\"table\", {\"class\": \"items\"})\n",
    "    links = []\n",
    "    \n",
    "    all_p = []\n",
    "    for row in team_links[0].find(\"tbody\").children:\n",
    "        player = [season, team]\n",
    "        if row.name == \"tr\":\n",
    "            cells = row.find_all(\"td\")\n",
    "            for cell in cells:\n",
    "                if cell.find(\"img\"):\n",
    "                    #nationality\n",
    "                    \n",
    "                    if cell.find(\"td\", {\"class\": \"hauptlink\"}):\n",
    "                        player_link =cell.find(\"td\", {\"class\": \"hauptlink\"}).find(\"span\", {\"class\": \"hide-for-small\"}).find(\"a\")[\"href\"]#[-1][\"href\"])\n",
    "                        #print(player_link)\n",
    "                        #a = \n",
    "                        \n",
    "                             #cell.find(\"span\", {\"class\": \"hide-for-small\"}).find(\"a\")[\"href\"]\n",
    "                        player_link = \"https://www.transfermarkt.co.uk\" + player_link.replace(\"profil\", \"leistungsdatendetails\")\n",
    "                            #player_resp = requests.get(player_link, headers={'User-Agent': 'not found 404'})\n",
    "                            #player_soup = BeautifulSoup(player_resp.content, \"html.parser\")\n",
    "                            #try:\n",
    "                            #    height = player_soup.find(\"span\", {\"itemprop\":\"height\"}).text[:-1].strip().replace(\",\", \".\")\n",
    "                            #except:\n",
    "                            #    height = ' '\n",
    "                            #print(height)\n",
    "                        player.append(player_link)\n",
    "                        player.append(player_link.split('/')[-1])\n",
    "                    \n",
    "                    elif \"posrela\" in cell[\"class\"] and \"bilderrahmen-fixed\" in cell.find(\"img\")[\"class\"]:\n",
    "                        #print(cell)\n",
    "                        #print(cell)\n",
    "                        player.append(\"not loaned\")\n",
    "                        natts = [n[\"title\"] for n in cell.find_all(\"img\")]\n",
    "                        #print(natts)\n",
    "                        player.append(natts[0])\n",
    "\n",
    "                    elif cell.find(\"span\"):\n",
    "                        #print(cell)\n",
    "                        loan_checker = cell.find(\"span\").find(\"a\")[\"title\"]\n",
    "                        \n",
    "                        if \"On loan from\" in loan_checker:\n",
    "                            player.append(loan_checker)\n",
    "                        else:\n",
    "                            player.append(\"not loaned\")\n",
    "                        player.append(cell.find(\"tr\").find(\"a\").find(\"img\")[\"title\"])\n",
    "                elif cell.find(\"a\"):\n",
    "                    #print(cell.find(\"a\")[\"title\"])\n",
    "                    player.append(cell.find('a')['title'])\n",
    "                    \n",
    "                else:\n",
    "                    player.append(cell.text)\n",
    "\n",
    "            \n",
    "\n",
    "            all_p.append(player)\n",
    "            \n",
    "    all_p_df = pd.DataFrame(all_p, columns=[\"Season\", \"Team\", \"#\", \"Link\" , 'PLAYER_ID', \"Player Name\", \"Position\", \"Age\", \"Appearences\", \"Played Games\", \"Goals\", \"Assists\", \"Yellow\", \"Second Yellow\", \"Red\", \"Come From Bench\", \"Substituted\", \"PPG\", \"Minute Played\"])\n",
    "    \n",
    "    for c in all_p_df.columns.values:#[7:]:\n",
    "        all_p_df[c] = all_p_df[c].replace(\"Not in squad during this season\", \"0\")\n",
    "        all_p_df[c] = all_p_df[c].replace(\"Not used during this season\", \"0\")\n",
    "        all_p_df[c] = all_p_df[c].replace(\"-\", \"0\")\n",
    "        \n",
    "        if all_p_df[c].dtype == object:\n",
    "            all_p_df[c] = all_p_df[c].str.replace(\"'\", \"\")\n",
    "            all_p_df[c] = all_p_df[c].str.replace(\",\", \".\")\n",
    "            #all_p_df[c] = all_p_df[c].str.replace(\".\", \"\", regex=True)\n",
    "            all_p_df[c] = all_p_df[c].str.replace(\"-\", \"\")\n",
    "            all_p_df[c] = all_p_df[c].str.replace(\"†\", \"\")\n",
    "        \n",
    "        try:\n",
    "            all_p_df[c] = all_p_df[c].astype(float)\n",
    "        except:\n",
    "            all_p_df[c] = all_p_df[c]\n",
    "    \n",
    "    all_p_df['TEAM_ID'] = link.split('/')[-3]\n",
    "    return all_p_df"
   ]
  },
  {
   "cell_type": "code",
   "execution_count": 27,
   "id": "ebe4014b-e807-445a-9e30-26f82e4705b7",
   "metadata": {},
   "outputs": [],
   "source": [
    "leagues = ['GB1', 'L1', 'PO1', 'FR1', 'IT1', 'ES1', 'TR1', 'NL1', 'BE1']"
   ]
  },
  {
   "cell_type": "code",
   "execution_count": 29,
   "id": "a7fe086e-8d18-4bf7-adca-a33cdebfc905",
   "metadata": {},
   "outputs": [],
   "source": [
    "import time"
   ]
  },
  {
   "cell_type": "code",
   "execution_count": 31,
   "id": "3085c067-c47f-4bb0-aed2-1183123f23b8",
   "metadata": {},
   "outputs": [
    {
     "name": "stdout",
     "output_type": "stream",
     "text": [
      "https://www.transfermarkt.co.uk/championship/startseite/wettbewerb/GB1/plus/?saison_id=2024\n"
     ]
    },
    {
     "name": "stderr",
     "output_type": "stream",
     "text": [
      "100%|█████████████████████████████████████████████████████████████████████████████████████████| 20/20 [00:41<00:00,  2.07s/it]\n"
     ]
    },
    {
     "name": "stdout",
     "output_type": "stream",
     "text": [
      "https://www.transfermarkt.co.uk/championship/startseite/wettbewerb/L1/plus/?saison_id=2024\n"
     ]
    },
    {
     "name": "stderr",
     "output_type": "stream",
     "text": [
      "100%|█████████████████████████████████████████████████████████████████████████████████████████| 18/18 [00:30<00:00,  1.67s/it]\n"
     ]
    },
    {
     "name": "stdout",
     "output_type": "stream",
     "text": [
      "https://www.transfermarkt.co.uk/championship/startseite/wettbewerb/PO1/plus/?saison_id=2024\n"
     ]
    },
    {
     "name": "stderr",
     "output_type": "stream",
     "text": [
      "100%|█████████████████████████████████████████████████████████████████████████████████████████| 18/18 [00:32<00:00,  1.81s/it]\n"
     ]
    },
    {
     "name": "stdout",
     "output_type": "stream",
     "text": [
      "https://www.transfermarkt.co.uk/championship/startseite/wettbewerb/FR1/plus/?saison_id=2024\n"
     ]
    },
    {
     "name": "stderr",
     "output_type": "stream",
     "text": [
      "100%|█████████████████████████████████████████████████████████████████████████████████████████| 18/18 [00:26<00:00,  1.50s/it]\n"
     ]
    },
    {
     "name": "stdout",
     "output_type": "stream",
     "text": [
      "https://www.transfermarkt.co.uk/championship/startseite/wettbewerb/IT1/plus/?saison_id=2024\n"
     ]
    },
    {
     "name": "stderr",
     "output_type": "stream",
     "text": [
      "100%|█████████████████████████████████████████████████████████████████████████████████████████| 20/20 [00:29<00:00,  1.46s/it]\n"
     ]
    },
    {
     "name": "stdout",
     "output_type": "stream",
     "text": [
      "https://www.transfermarkt.co.uk/championship/startseite/wettbewerb/ES1/plus/?saison_id=2024\n"
     ]
    },
    {
     "name": "stderr",
     "output_type": "stream",
     "text": [
      "100%|█████████████████████████████████████████████████████████████████████████████████████████| 20/20 [00:28<00:00,  1.43s/it]\n"
     ]
    },
    {
     "name": "stdout",
     "output_type": "stream",
     "text": [
      "https://www.transfermarkt.co.uk/championship/startseite/wettbewerb/TR1/plus/?saison_id=2024\n"
     ]
    },
    {
     "name": "stderr",
     "output_type": "stream",
     "text": [
      "100%|█████████████████████████████████████████████████████████████████████████████████████████| 19/19 [00:29<00:00,  1.58s/it]\n"
     ]
    },
    {
     "name": "stdout",
     "output_type": "stream",
     "text": [
      "https://www.transfermarkt.co.uk/championship/startseite/wettbewerb/NL1/plus/?saison_id=2024\n"
     ]
    },
    {
     "name": "stderr",
     "output_type": "stream",
     "text": [
      "100%|█████████████████████████████████████████████████████████████████████████████████████████| 18/18 [00:29<00:00,  1.67s/it]\n"
     ]
    },
    {
     "name": "stdout",
     "output_type": "stream",
     "text": [
      "https://www.transfermarkt.co.uk/championship/startseite/wettbewerb/BE1/plus/?saison_id=2024\n"
     ]
    },
    {
     "name": "stderr",
     "output_type": "stream",
     "text": [
      "100%|█████████████████████████████████████████████████████████████████████████████████████████| 16/16 [00:27<00:00,  1.69s/it]\n"
     ]
    }
   ],
   "source": [
    "base_df = pd.DataFrame()\n",
    "for l in leagues:\n",
    "    team_links =get_links(l, [2024])\n",
    "    tl = []\n",
    "    for team in tqdm(team_links):\n",
    "        passed = 0\n",
    "        while passed == 0:\n",
    "            try:\n",
    "                tl.append(find_squad_stats(team))\n",
    "                passed = 1\n",
    "            except:\n",
    "                print(f'team {team} error - trying again')\n",
    "                time.sleep(5)\n",
    "    all_teams = pd.concat(tl)\n",
    "    all_teams['League'] = [l]*len(all_teams)\n",
    "\n",
    "    base_df = pd.concat([base_df, all_teams])"
   ]
  },
  {
   "cell_type": "code",
   "execution_count": 33,
   "id": "930693f4-79fc-4e49-8c01-441f0e615a59",
   "metadata": {},
   "outputs": [],
   "source": [
    "base_df.to_csv('players_infos.csv', index=False)"
   ]
  },
  {
   "cell_type": "code",
   "execution_count": null,
   "id": "06a1d34c-2981-400b-a761-f4aecc2705c4",
   "metadata": {},
   "outputs": [],
   "source": []
  },
  {
   "cell_type": "code",
   "execution_count": 23,
   "id": "f92cdbc9",
   "metadata": {},
   "outputs": [
    {
     "data": {
      "text/plain": [
       "Played Games\n",
       "    5126\n",
       "Name: count, dtype: int64"
      ]
     },
     "execution_count": 23,
     "metadata": {},
     "output_type": "execute_result"
    }
   ],
   "source": [
    "base_df['Played Games'].value_counts()"
   ]
  },
  {
   "cell_type": "code",
   "execution_count": null,
   "id": "bb4b3925",
   "metadata": {},
   "outputs": [],
   "source": []
  },
  {
   "cell_type": "code",
   "execution_count": 86,
   "id": "671b36ba",
   "metadata": {},
   "outputs": [],
   "source": [
    "all_teams = pd.concat(tl)"
   ]
  },
  {
   "cell_type": "code",
   "execution_count": 35,
   "id": "dfadad81",
   "metadata": {},
   "outputs": [
    {
     "data": {
      "text/html": [
       "<div>\n",
       "<style scoped>\n",
       "    .dataframe tbody tr th:only-of-type {\n",
       "        vertical-align: middle;\n",
       "    }\n",
       "\n",
       "    .dataframe tbody tr th {\n",
       "        vertical-align: top;\n",
       "    }\n",
       "\n",
       "    .dataframe thead th {\n",
       "        text-align: right;\n",
       "    }\n",
       "</style>\n",
       "<table border=\"1\" class=\"dataframe\">\n",
       "  <thead>\n",
       "    <tr style=\"text-align: right;\">\n",
       "      <th></th>\n",
       "      <th>Season</th>\n",
       "      <th>Team</th>\n",
       "      <th>#</th>\n",
       "      <th>Link</th>\n",
       "      <th>PLAYER_ID</th>\n",
       "      <th>Player Name</th>\n",
       "      <th>Position</th>\n",
       "      <th>Age</th>\n",
       "      <th>Appearences</th>\n",
       "      <th>Played Games</th>\n",
       "      <th>...</th>\n",
       "      <th>Assists</th>\n",
       "      <th>Yellow</th>\n",
       "      <th>Second Yellow</th>\n",
       "      <th>Red</th>\n",
       "      <th>Come From Bench</th>\n",
       "      <th>Substituted</th>\n",
       "      <th>PPG</th>\n",
       "      <th>Minute Played</th>\n",
       "      <th>TEAM_ID</th>\n",
       "      <th>League</th>\n",
       "    </tr>\n",
       "  </thead>\n",
       "  <tbody>\n",
       "    <tr>\n",
       "      <th>0</th>\n",
       "      <td>202425.0</td>\n",
       "      <td>Club Brugge KV</td>\n",
       "      <td>22.0</td>\n",
       "      <td>https://www.transfermarkt.co.uk/simonmignolet/...</td>\n",
       "      <td>50219.0</td>\n",
       "      <td>Simon Mignolet</td>\n",
       "      <td>Goalkeeper</td>\n",
       "      <td>36.0</td>\n",
       "      <td>10.0</td>\n",
       "      <td>10.0</td>\n",
       "      <td>...</td>\n",
       "      <td>0.0</td>\n",
       "      <td>0.0</td>\n",
       "      <td>0.0</td>\n",
       "      <td>0.0</td>\n",
       "      <td>0.0</td>\n",
       "      <td>0.0</td>\n",
       "      <td>1.50</td>\n",
       "      <td>900.0</td>\n",
       "      <td>2282</td>\n",
       "      <td>BE1</td>\n",
       "    </tr>\n",
       "    <tr>\n",
       "      <th>1</th>\n",
       "      <td>202425.0</td>\n",
       "      <td>Club Brugge KV</td>\n",
       "      <td>29.0</td>\n",
       "      <td>https://www.transfermarkt.co.uk/nordinjackers/...</td>\n",
       "      <td>250543.0</td>\n",
       "      <td>Nordin Jackers</td>\n",
       "      <td>Goalkeeper</td>\n",
       "      <td>27.0</td>\n",
       "      <td>10.0</td>\n",
       "      <td>0.0</td>\n",
       "      <td>...</td>\n",
       "      <td>0.0</td>\n",
       "      <td>0.0</td>\n",
       "      <td>0.0</td>\n",
       "      <td>0.0</td>\n",
       "      <td>0.0</td>\n",
       "      <td>0.0</td>\n",
       "      <td>0.00</td>\n",
       "      <td>0.0</td>\n",
       "      <td>2282</td>\n",
       "      <td>BE1</td>\n",
       "    </tr>\n",
       "    <tr>\n",
       "      <th>2</th>\n",
       "      <td>202425.0</td>\n",
       "      <td>Club Brugge KV</td>\n",
       "      <td>16.0</td>\n",
       "      <td>https://www.transfermarkt.co.uk/danivandenheuv...</td>\n",
       "      <td>559320.0</td>\n",
       "      <td>Dani van den Heuvel</td>\n",
       "      <td>Goalkeeper</td>\n",
       "      <td>21.0</td>\n",
       "      <td>0.0</td>\n",
       "      <td>0.0</td>\n",
       "      <td>...</td>\n",
       "      <td>0.0</td>\n",
       "      <td>0.0</td>\n",
       "      <td>0.0</td>\n",
       "      <td>0.0</td>\n",
       "      <td>0.0</td>\n",
       "      <td>0.0</td>\n",
       "      <td>0.00</td>\n",
       "      <td>0.0</td>\n",
       "      <td>2282</td>\n",
       "      <td>BE1</td>\n",
       "    </tr>\n",
       "    <tr>\n",
       "      <th>3</th>\n",
       "      <td>202425.0</td>\n",
       "      <td>Club Brugge KV</td>\n",
       "      <td>55.0</td>\n",
       "      <td>https://www.transfermarkt.co.uk/maximdecuyper/...</td>\n",
       "      <td>429915.0</td>\n",
       "      <td>Maxim De Cuyper</td>\n",
       "      <td>LeftBack</td>\n",
       "      <td>23.0</td>\n",
       "      <td>10.0</td>\n",
       "      <td>10.0</td>\n",
       "      <td>...</td>\n",
       "      <td>1.0</td>\n",
       "      <td>2.0</td>\n",
       "      <td>0.0</td>\n",
       "      <td>0.0</td>\n",
       "      <td>1.0</td>\n",
       "      <td>2.0</td>\n",
       "      <td>1.50</td>\n",
       "      <td>820.0</td>\n",
       "      <td>2282</td>\n",
       "      <td>BE1</td>\n",
       "    </tr>\n",
       "    <tr>\n",
       "      <th>4</th>\n",
       "      <td>202425.0</td>\n",
       "      <td>Club Brugge KV</td>\n",
       "      <td>4.0</td>\n",
       "      <td>https://www.transfermarkt.co.uk/joelordonez/le...</td>\n",
       "      <td>893661.0</td>\n",
       "      <td>Joel Ordóñez</td>\n",
       "      <td>CentreBack</td>\n",
       "      <td>20.0</td>\n",
       "      <td>8.0</td>\n",
       "      <td>6.0</td>\n",
       "      <td>...</td>\n",
       "      <td>0.0</td>\n",
       "      <td>1.0</td>\n",
       "      <td>0.0</td>\n",
       "      <td>0.0</td>\n",
       "      <td>0.0</td>\n",
       "      <td>1.0</td>\n",
       "      <td>1.67</td>\n",
       "      <td>532.0</td>\n",
       "      <td>2282</td>\n",
       "      <td>BE1</td>\n",
       "    </tr>\n",
       "    <tr>\n",
       "      <th>...</th>\n",
       "      <td>...</td>\n",
       "      <td>...</td>\n",
       "      <td>...</td>\n",
       "      <td>...</td>\n",
       "      <td>...</td>\n",
       "      <td>...</td>\n",
       "      <td>...</td>\n",
       "      <td>...</td>\n",
       "      <td>...</td>\n",
       "      <td>...</td>\n",
       "      <td>...</td>\n",
       "      <td>...</td>\n",
       "      <td>...</td>\n",
       "      <td>...</td>\n",
       "      <td>...</td>\n",
       "      <td>...</td>\n",
       "      <td>...</td>\n",
       "      <td>...</td>\n",
       "      <td>...</td>\n",
       "      <td>...</td>\n",
       "      <td>...</td>\n",
       "    </tr>\n",
       "    <tr>\n",
       "      <th>24</th>\n",
       "      <td>202425.0</td>\n",
       "      <td>FCV Dender EH</td>\n",
       "      <td>26.0</td>\n",
       "      <td>https://www.transfermarkt.co.uk/ragnaroratmang...</td>\n",
       "      <td>410854.0</td>\n",
       "      <td>Ragnar Oratmangoen</td>\n",
       "      <td>Left Winger</td>\n",
       "      <td>26.0</td>\n",
       "      <td>3.0</td>\n",
       "      <td>2.0</td>\n",
       "      <td>...</td>\n",
       "      <td>0.0</td>\n",
       "      <td>0.0</td>\n",
       "      <td>0.0</td>\n",
       "      <td>0.0</td>\n",
       "      <td>2.0</td>\n",
       "      <td>0.0</td>\n",
       "      <td>0.50</td>\n",
       "      <td>62.0</td>\n",
       "      <td>9010</td>\n",
       "      <td>BE1</td>\n",
       "    </tr>\n",
       "    <tr>\n",
       "      <th>25</th>\n",
       "      <td>202425.0</td>\n",
       "      <td>FCV Dender EH</td>\n",
       "      <td>19.0</td>\n",
       "      <td>https://www.transfermarkt.co.uk/aliakman/leist...</td>\n",
       "      <td>555719.0</td>\n",
       "      <td>Ali Akman</td>\n",
       "      <td>CentreForward</td>\n",
       "      <td>22.0</td>\n",
       "      <td>10.0</td>\n",
       "      <td>2.0</td>\n",
       "      <td>...</td>\n",
       "      <td>0.0</td>\n",
       "      <td>0.0</td>\n",
       "      <td>0.0</td>\n",
       "      <td>0.0</td>\n",
       "      <td>2.0</td>\n",
       "      <td>0.0</td>\n",
       "      <td>0.50</td>\n",
       "      <td>21.0</td>\n",
       "      <td>9010</td>\n",
       "      <td>BE1</td>\n",
       "    </tr>\n",
       "    <tr>\n",
       "      <th>26</th>\n",
       "      <td>202425.0</td>\n",
       "      <td>FCV Dender EH</td>\n",
       "      <td>98.0</td>\n",
       "      <td>https://www.transfermarkt.co.uk/jordysoladio/l...</td>\n",
       "      <td>533092.0</td>\n",
       "      <td>Jordy Soladio</td>\n",
       "      <td>CentreForward</td>\n",
       "      <td>26.0</td>\n",
       "      <td>10.0</td>\n",
       "      <td>9.0</td>\n",
       "      <td>...</td>\n",
       "      <td>0.0</td>\n",
       "      <td>1.0</td>\n",
       "      <td>0.0</td>\n",
       "      <td>0.0</td>\n",
       "      <td>5.0</td>\n",
       "      <td>4.0</td>\n",
       "      <td>1.56</td>\n",
       "      <td>351.0</td>\n",
       "      <td>9010</td>\n",
       "      <td>BE1</td>\n",
       "    </tr>\n",
       "    <tr>\n",
       "      <th>27</th>\n",
       "      <td>202425.0</td>\n",
       "      <td>FCV Dender EH</td>\n",
       "      <td>17.0</td>\n",
       "      <td>https://www.transfermarkt.co.uk/abdoulayeyahay...</td>\n",
       "      <td>779309.0</td>\n",
       "      <td>Abdoulaye Yahaya</td>\n",
       "      <td>Right Winger</td>\n",
       "      <td>23.0</td>\n",
       "      <td>0.0</td>\n",
       "      <td>0.0</td>\n",
       "      <td>...</td>\n",
       "      <td>0.0</td>\n",
       "      <td>0.0</td>\n",
       "      <td>0.0</td>\n",
       "      <td>0.0</td>\n",
       "      <td>0.0</td>\n",
       "      <td>0.0</td>\n",
       "      <td>0.00</td>\n",
       "      <td>0.0</td>\n",
       "      <td>9010</td>\n",
       "      <td>BE1</td>\n",
       "    </tr>\n",
       "    <tr>\n",
       "      <th>28</th>\n",
       "      <td>202425.0</td>\n",
       "      <td>FCV Dender EH</td>\n",
       "      <td>9.0</td>\n",
       "      <td>https://www.transfermarkt.co.uk/michaellallema...</td>\n",
       "      <td>110724.0</td>\n",
       "      <td>Michael Lallemand</td>\n",
       "      <td>CentreForward</td>\n",
       "      <td>31.0</td>\n",
       "      <td>0.0</td>\n",
       "      <td>0.0</td>\n",
       "      <td>...</td>\n",
       "      <td>0.0</td>\n",
       "      <td>0.0</td>\n",
       "      <td>0.0</td>\n",
       "      <td>0.0</td>\n",
       "      <td>0.0</td>\n",
       "      <td>0.0</td>\n",
       "      <td>0.00</td>\n",
       "      <td>0.0</td>\n",
       "      <td>9010</td>\n",
       "      <td>BE1</td>\n",
       "    </tr>\n",
       "  </tbody>\n",
       "</table>\n",
       "<p>492 rows × 21 columns</p>\n",
       "</div>"
      ],
      "text/plain": [
       "      Season            Team     #  \\\n",
       "0   202425.0  Club Brugge KV  22.0   \n",
       "1   202425.0  Club Brugge KV  29.0   \n",
       "2   202425.0  Club Brugge KV  16.0   \n",
       "3   202425.0  Club Brugge KV  55.0   \n",
       "4   202425.0  Club Brugge KV   4.0   \n",
       "..       ...             ...   ...   \n",
       "24  202425.0   FCV Dender EH  26.0   \n",
       "25  202425.0   FCV Dender EH  19.0   \n",
       "26  202425.0   FCV Dender EH  98.0   \n",
       "27  202425.0   FCV Dender EH  17.0   \n",
       "28  202425.0   FCV Dender EH   9.0   \n",
       "\n",
       "                                                 Link  PLAYER_ID  \\\n",
       "0   https://www.transfermarkt.co.uk/simonmignolet/...    50219.0   \n",
       "1   https://www.transfermarkt.co.uk/nordinjackers/...   250543.0   \n",
       "2   https://www.transfermarkt.co.uk/danivandenheuv...   559320.0   \n",
       "3   https://www.transfermarkt.co.uk/maximdecuyper/...   429915.0   \n",
       "4   https://www.transfermarkt.co.uk/joelordonez/le...   893661.0   \n",
       "..                                                ...        ...   \n",
       "24  https://www.transfermarkt.co.uk/ragnaroratmang...   410854.0   \n",
       "25  https://www.transfermarkt.co.uk/aliakman/leist...   555719.0   \n",
       "26  https://www.transfermarkt.co.uk/jordysoladio/l...   533092.0   \n",
       "27  https://www.transfermarkt.co.uk/abdoulayeyahay...   779309.0   \n",
       "28  https://www.transfermarkt.co.uk/michaellallema...   110724.0   \n",
       "\n",
       "            Player Name       Position   Age  Appearences  Played Games  ...  \\\n",
       "0        Simon Mignolet     Goalkeeper  36.0         10.0          10.0  ...   \n",
       "1        Nordin Jackers     Goalkeeper  27.0         10.0           0.0  ...   \n",
       "2   Dani van den Heuvel     Goalkeeper  21.0          0.0           0.0  ...   \n",
       "3       Maxim De Cuyper       LeftBack  23.0         10.0          10.0  ...   \n",
       "4          Joel Ordóñez     CentreBack  20.0          8.0           6.0  ...   \n",
       "..                  ...            ...   ...          ...           ...  ...   \n",
       "24   Ragnar Oratmangoen    Left Winger  26.0          3.0           2.0  ...   \n",
       "25            Ali Akman  CentreForward  22.0         10.0           2.0  ...   \n",
       "26        Jordy Soladio  CentreForward  26.0         10.0           9.0  ...   \n",
       "27     Abdoulaye Yahaya   Right Winger  23.0          0.0           0.0  ...   \n",
       "28    Michael Lallemand  CentreForward  31.0          0.0           0.0  ...   \n",
       "\n",
       "    Assists  Yellow  Second Yellow  Red  Come From Bench  Substituted   PPG  \\\n",
       "0       0.0     0.0            0.0  0.0              0.0          0.0  1.50   \n",
       "1       0.0     0.0            0.0  0.0              0.0          0.0  0.00   \n",
       "2       0.0     0.0            0.0  0.0              0.0          0.0  0.00   \n",
       "3       1.0     2.0            0.0  0.0              1.0          2.0  1.50   \n",
       "4       0.0     1.0            0.0  0.0              0.0          1.0  1.67   \n",
       "..      ...     ...            ...  ...              ...          ...   ...   \n",
       "24      0.0     0.0            0.0  0.0              2.0          0.0  0.50   \n",
       "25      0.0     0.0            0.0  0.0              2.0          0.0  0.50   \n",
       "26      0.0     1.0            0.0  0.0              5.0          4.0  1.56   \n",
       "27      0.0     0.0            0.0  0.0              0.0          0.0  0.00   \n",
       "28      0.0     0.0            0.0  0.0              0.0          0.0  0.00   \n",
       "\n",
       "    Minute Played  TEAM_ID League  \n",
       "0           900.0     2282    BE1  \n",
       "1             0.0     2282    BE1  \n",
       "2             0.0     2282    BE1  \n",
       "3           820.0     2282    BE1  \n",
       "4           532.0     2282    BE1  \n",
       "..            ...      ...    ...  \n",
       "24           62.0     9010    BE1  \n",
       "25           21.0     9010    BE1  \n",
       "26          351.0     9010    BE1  \n",
       "27            0.0     9010    BE1  \n",
       "28            0.0     9010    BE1  \n",
       "\n",
       "[492 rows x 21 columns]"
      ]
     },
     "execution_count": 35,
     "metadata": {},
     "output_type": "execute_result"
    }
   ],
   "source": [
    "all_teams"
   ]
  },
  {
   "cell_type": "code",
   "execution_count": null,
   "id": "bb932cff-d610-4e35-a4c7-5de841d152bd",
   "metadata": {},
   "outputs": [],
   "source": []
  },
  {
   "cell_type": "code",
   "execution_count": 92,
   "id": "a3b01bd4-339a-4ca4-8f5a-44821855de6a",
   "metadata": {},
   "outputs": [],
   "source": [
    "#find player main stats page\n",
    "session = requests.Session()\n",
    "\n",
    "session.headers.update(headers)\n",
    "\n",
    "def get_page(l):\n",
    "    passed = 0\n",
    "    while passed == 0:\n",
    "        try:\n",
    "            page = requests.get(l, headers=headers)\n",
    "            passed = 1\n",
    "        except:\n",
    "            passed = 0\n",
    "            print(\"trying to download \", l)\n",
    "            time.sleep(5)\n",
    "            \n",
    "    return page"
   ]
  },
  {
   "cell_type": "code",
   "execution_count": 95,
   "id": "9756798f-1684-403c-972b-9dc46344e262",
   "metadata": {},
   "outputs": [
    {
     "name": "stderr",
     "output_type": "stream",
     "text": [
      "100%|████████████████████████████████████████████████████████████████████████████████| 585/585 [14:30<00:00,  1.49s/it]\n"
     ]
    }
   ],
   "source": [
    "pl_links = []\n",
    "\n",
    "for link in tqdm(all_teams.Link.values):\n",
    "    pl_links.append(get_page(link))"
   ]
  },
  {
   "cell_type": "code",
   "execution_count": null,
   "id": "b58952f8-8798-4152-9055-2f3767b78513",
   "metadata": {},
   "outputs": [],
   "source": []
  },
  {
   "cell_type": "code",
   "execution_count": null,
   "id": "86ce3665-ae94-4d7d-b282-303258465c98",
   "metadata": {},
   "outputs": [],
   "source": []
  }
 ],
 "metadata": {
  "kernelspec": {
   "display_name": "Python 3 (ipykernel)",
   "language": "python",
   "name": "python3"
  },
  "language_info": {
   "codemirror_mode": {
    "name": "ipython",
    "version": 3
   },
   "file_extension": ".py",
   "mimetype": "text/x-python",
   "name": "python",
   "nbconvert_exporter": "python",
   "pygments_lexer": "ipython3",
   "version": "3.11.3"
  }
 },
 "nbformat": 4,
 "nbformat_minor": 5
}
